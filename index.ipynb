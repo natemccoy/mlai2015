{
 "cells": [
  {
   "cell_type": "markdown",
   "metadata": {},
   "source": [
    "# Machine Learning and Adaptive Intelligence \n",
    "\n",
    "## Neil D. Lawrence\n",
    "\n",
    "* For lab classes from 2013-14 please see [here](https://github.com/lawrennd/mlai2013/blob/master/index.ipynb)\n",
    "* For lab classes from 2014-15 please see [here](https://github.com/lawrennd/mlai2014/blob/master/index.ipynb)\n",
    "\n",
    "The lecture notes will all be given in the form of Jupyter Notebooks and are available below. \n",
    "\n",
    "* [Week 1](./week1.ipynb) Probability and an Introduction to the Jupyter Notebook, python and Pandas. \n",
    "* [Week 2](./week2.ipynb) Objective Functions: a simple example with matrix factorisation.\n",
    "* [Week 3](./week3.ipynb) Linear Algebra and Linear Regression\n",
    "* [Week 4](./week4.ipynb) Basis Functions\n",
    "* [Week 5](./week5.ipynb) Model checking: training, testing and validation\n",
    "* [Week 6](./week6.ipynb) Bayesian Regression\n",
    "* [Week 7](./week7.ipynb) Reading Week\n",
    "* [Week 8](./week8.ipynb) Dimensionality Reduction: Latent Variable Modelling\n",
    "* [Week 9](./week9.ipynb) Probabilistic Classification \n",
    "* [Week 10](./week10.ipynb) Logistic Regression and Generalised Linear Models\n",
    "* Week 11 Reading Week\n",
    "* [Week 12](./week12.ipynb) Special Topic: Gaussian Processes\n",
    "\n"
   ]
  },
  {
   "cell_type": "code",
   "execution_count": null,
   "metadata": {
    "collapsed": false
   },
   "outputs": [],
   "source": []
  }
 ],
 "metadata": {
  "kernelspec": {
   "display_name": "Python 2",
   "language": "python",
   "name": "python2"
  },
  "language_info": {
   "codemirror_mode": {
    "name": "ipython",
    "version": 2
   },
   "file_extension": ".py",
   "mimetype": "text/x-python",
   "name": "python",
   "nbconvert_exporter": "python",
   "pygments_lexer": "ipython2",
   "version": "2.7.6"
  }
 },
 "nbformat": 4,
 "nbformat_minor": 0
}
